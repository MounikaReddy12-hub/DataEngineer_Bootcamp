{
 "cells": [
  {
   "cell_type": "code",
   "execution_count": 0,
   "metadata": {
    "application/vnd.databricks.v1+cell": {
     "cellMetadata": {
      "byteLimit": 2048000,
      "implicitDf": true,
      "rowLimit": 10000
     },
     "inputWidgets": {},
     "nuid": "5abc42cb-28ec-4ba3-ba82-8cc28c722f6e",
     "showTitle": false,
     "tableResultSettingsMap": {},
     "title": ""
    }
   },
   "outputs": [],
   "source": [
    "%sql\n",
    "CREATE TABLE EMPLOYEE(\n",
    "       EMPID INT,\n",
    "       FIRST_NAME VARCHAR(50),\n",
    "\t     LAST_NAME VARCHAR(50),\n",
    "       DEPARTMENT VARCHAR(50),\n",
    "       SALARY DECIMAL(10,2),\n",
    "       JOINING_DATE DATE,\n",
    "       CITY VARCHAR(50),\n",
    "\t     EMAIL VARCHAR(100)\n",
    "       );"
   ]
  },
  {
   "cell_type": "code",
   "execution_count": 0,
   "metadata": {
    "application/vnd.databricks.v1+cell": {
     "cellMetadata": {
      "byteLimit": 2048000,
      "implicitDf": true,
      "rowLimit": 10000
     },
     "inputWidgets": {},
     "nuid": "1a6e878d-cc3e-450b-8e77-668ee510c135",
     "showTitle": false,
     "tableResultSettingsMap": {},
     "title": ""
    }
   },
   "outputs": [],
   "source": [
    "%sql\n",
    "CREATE DATABASE IF NOT EXISTS DEMO_DB;\n",
    "USE DEMO_DB;"
   ]
  },
  {
   "cell_type": "code",
   "execution_count": 0,
   "metadata": {
    "application/vnd.databricks.v1+cell": {
     "cellMetadata": {
      "byteLimit": 2048000,
      "implicitDf": true,
      "rowLimit": 10000
     },
     "inputWidgets": {},
     "nuid": "5c928884-c856-4a53-905c-5ca331ddb113",
     "showTitle": false,
     "tableResultSettingsMap": {},
     "title": ""
    }
   },
   "outputs": [],
   "source": [
    "%sql\n",
    "CREATE TABLE IF NOT EXISTS Employees(\n",
    "       EMPID INT,\n",
    "       FIRST_NAME VARCHAR(50),\n",
    "\t     LAST_NAME VARCHAR(50),\n",
    "       DEPARTMENT VARCHAR(50),\n",
    "       SALARY DECIMAL(10,2),\n",
    "       JOINING_DATE DATE,\n",
    "       CITY VARCHAR(50),\n",
    "\t     EMAIL VARCHAR(100)\n",
    "       );"
   ]
  },
  {
   "cell_type": "code",
   "execution_count": 0,
   "metadata": {
    "application/vnd.databricks.v1+cell": {
     "cellMetadata": {
      "byteLimit": 2048000,
      "implicitDf": true,
      "rowLimit": 10000
     },
     "inputWidgets": {},
     "nuid": "2b93c2af-7262-4cff-8d0b-63f53d246915",
     "showTitle": false,
     "tableResultSettingsMap": {},
     "title": ""
    }
   },
   "outputs": [],
   "source": [
    "%sql\n",
    "INSERT INTO EMPLOYEES VALUES(1,'Ram', 'Sita', 'HR', 50000.00, '2014-02-20', 'Hyderabad', 'ram.sita@gmail.com');"
   ]
  },
  {
   "cell_type": "code",
   "execution_count": 0,
   "metadata": {
    "application/vnd.databricks.v1+cell": {
     "cellMetadata": {
      "byteLimit": 2048000,
      "implicitDf": true,
      "rowLimit": 10000
     },
     "inputWidgets": {},
     "nuid": "6efd55bd-ff05-4e50-9d48-d48f58a1487b",
     "showTitle": false,
     "tableResultSettingsMap": {},
     "title": ""
    }
   },
   "outputs": [],
   "source": [
    "%sql\n",
    "INSERT INTO EMPLOYEES VALUES (2, 'Arjun', 'Reddy', 'IT', 62000.00, '2015-03-15', 'Bangalore', 'arjun.reddy2@gmail.com');\n",
    "INSERT INTO EMPLOYEES VALUES (3, 'Sneha', 'Kumar', 'Finance', 58000.00, '2016-07-10', 'Chennai', 'sneha.kumar3@gmail.com');\n",
    "INSERT INTO EMPLOYEES VALUES (4, 'Vikram', 'Sharma', 'Sales', 72000.00, '2017-01-25', 'Pune', 'vikram.sharma4@gmail.com');\n",
    "INSERT INTO EMPLOYEES VALUES (5, 'Anita', 'Verma', 'Marketing', 54000.00, '2018-05-19', 'Delhi', 'anita.verma5@gmail.com');\n",
    "INSERT INTO EMPLOYEES VALUES (6, 'Rohit', 'Gupta', 'Operations', 60000.00, '2019-09-12', 'Mumbai', 'rohit.gupta6@gmail.com');\n",
    "INSERT INTO EMPLOYEES VALUES (7, 'Priya', 'Naidu', 'HR', 51000.00, '2020-11-05', 'Hyderabad', 'priya.naidu7@gmail.com');\n",
    "INSERT INTO EMPLOYEES VALUES (8, 'Karan', 'Kapoor', 'IT', 65000.00, '2014-06-22', 'Bangalore', 'karan.kapoor8@gmail.com');\n",
    "INSERT INTO EMPLOYEES VALUES (9, 'Meena', 'Patel', 'Finance', 59000.00, '2015-04-30', 'Ahmedabad', 'meena.patel9@gmail.com');\n",
    "INSERT INTO EMPLOYEES VALUES (10, 'Suresh', 'Yadav', 'Sales', 70500.00, '2016-10-18', 'Pune', 'suresh.yadav10@gmail.com');\n",
    "INSERT INTO EMPLOYEES VALUES (11, 'Lakshmi', 'Menon', 'Marketing', 55500.00, '2017-08-07', 'Kochi', 'lakshmi.menon11@gmail.com');\n",
    "INSERT INTO EMPLOYEES VALUES (12, 'Rahul', 'Singh', 'Operations', 61000.00, '2018-12-25', 'Delhi', 'rahul.singh12@gmail.com');\n",
    "INSERT INTO EMPLOYEES VALUES (13, 'Neha', 'Mishra', 'HR', 52000.00, '2019-03-14', 'Hyderabad', 'neha.mishra13@gmail.com');\n",
    "INSERT INTO EMPLOYEES VALUES (14, 'Amit', 'Joshi', 'IT', 67500.00, '2020-07-28', 'Mumbai', 'amit.joshi14@gmail.com');\n",
    "INSERT INTO EMPLOYEES VALUES (15, 'Divya', 'Nair', 'Finance', 58500.00, '2014-09-11', 'Chennai', 'divya.nair15@gmail.com');\n",
    "INSERT INTO EMPLOYEES VALUES (16, 'Manoj', 'Desai', 'Sales', 71500.00, '2015-02-20', 'Pune', 'manoj.desai16@gmail.com');\n",
    "INSERT INTO EMPLOYEES VALUES (17, 'Shalini', 'Agarwal', 'Marketing', 54500.00, '2016-06-05', 'Delhi', 'shalini.agarwal17@gmail.com');\n",
    "INSERT INTO EMPLOYEES VALUES (18, 'Nikhil', 'Bhat', 'Operations', 60500.00, '2017-11-12', 'Bangalore', 'nikhil.bhat18@gmail.com');\n",
    "INSERT INTO EMPLOYEES VALUES (19, 'Kavya', 'Rao', 'HR', 53000.00, '2018-01-19', 'Hyderabad', 'kavya.rao19@gmail.com');\n",
    "INSERT INTO EMPLOYEES VALUES (20, 'Rajesh', 'Kulkarni', 'IT', 66000.00, '2019-05-09', 'Mumbai', 'rajesh.kulkarni20@gmail.com');\n",
    "INSERT INTO EMPLOYEES VALUES (21, 'Pooja', 'Iyer', 'Finance', 57000.00, '2020-08-23', 'Chennai', 'pooja.iyer21@gmail.com');\n",
    "INSERT INTO EMPLOYEES VALUES (22, 'Sanjay', 'Dixit', 'Sales', 73000.00, '2014-03-14', 'Pune', 'sanjay.dixit22@gmail.com');\n",
    "INSERT INTO EMPLOYEES VALUES (23, 'Ritika', 'Mehra', 'Marketing', 56000.00, '2015-10-02', 'Delhi', 'ritika.mehra23@gmail.com');\n",
    "INSERT INTO EMPLOYEES VALUES (24, 'Varun', 'Chopra', 'Operations', 62000.00, '2016-12-17', 'Mumbai', 'varun.chopra24@gmail.com');\n",
    "INSERT INTO EMPLOYEES VALUES (25, 'Sonia', 'Pillai', 'HR', 52500.00, '2017-04-11', 'Hyderabad', 'sonia.pillai25@gmail.com');\n",
    "INSERT INTO EMPLOYEES VALUES (26, 'Deepak', 'Shukla', 'IT', 64000.00, '2018-09-05', 'Bangalore', 'deepak.shukla26@gmail.com');\n",
    "INSERT INTO EMPLOYEES VALUES (27, 'Anjali', 'Das', 'Finance', 57500.00, '2019-01-20', 'Kolkata', 'anjali.das27@gmail.com');\n",
    "INSERT INTO EMPLOYEES VALUES (28, 'Harish', 'Tripathi', 'Sales', 71000.00, '2020-06-15', 'Pune', 'harish.tripathi28@gmail.com');\n",
    "INSERT INTO EMPLOYEES VALUES (29, 'Swati', 'Roy', 'Marketing', 55000.00, '2014-11-19', 'Delhi', 'swati.roy29@gmail.com');\n",
    "INSERT INTO EMPLOYEES VALUES (30, 'Ramesh', 'Nanda', 'Operations', 61500.00, '2015-07-22', 'Chennai', 'ramesh.nanda30@gmail.com');\n",
    "INSERT INTO EMPLOYEES VALUES (31, 'Jyoti', 'Malhotra', 'HR', 53500.00, '2016-05-13', 'Hyderabad', 'jyoti.malhotra31@gmail.com');\n",
    "INSERT INTO EMPLOYEES VALUES (32, 'Ashok', 'Verghese', 'IT', 65500.00, '2017-08-28', 'Bangalore', 'ashok.verghese32@gmail.com');\n",
    "INSERT INTO EMPLOYEES VALUES (33, 'Tanvi', 'Sen', 'Finance', 56500.00, '2018-10-09', 'Kolkata', 'tanvi.sen33@gmail.com');\n",
    "INSERT INTO EMPLOYEES VALUES (34, 'Mohan', 'Sethi', 'Sales', 73500.00, '2019-02-17', 'Pune', 'mohan.sethi34@gmail.com');\n",
    "INSERT INTO EMPLOYEES VALUES (35, 'Alka', 'Krishnan', 'Marketing', 57500.00, '2020-12-20', 'Delhi', 'alka.krishnan35@gmail.com');\n",
    "INSERT INTO EMPLOYEES VALUES (36, 'Ajay', 'Naik', 'Operations', 62500.00, '2014-09-10', 'Mumbai', 'ajay.naik36@gmail.com');\n",
    "INSERT INTO EMPLOYEES VALUES (37, 'Gayathri', 'Chauhan', 'HR', 54500.00, '2015-04-14', 'Hyderabad', 'gayathri.chauhan37@gmail.com');\n",
    "INSERT INTO EMPLOYEES VALUES (38, 'Kunal', 'Pandey', 'IT', 67000.00, '2016-07-25', 'Bangalore', 'kunal.pandey38@gmail.com');\n",
    "INSERT INTO EMPLOYEES VALUES (39, 'Pallavi', 'George', 'Finance', 59000.00, '2017-11-05', 'Kochi', 'pallavi.george39@gmail.com');\n",
    "INSERT INTO EMPLOYEES VALUES (40, 'Ravi', 'Chandra', 'Sales', 74000.00, '2018-02-28', 'Pune', 'ravi.chandra40@gmail.com');\n",
    "INSERT INTO EMPLOYEES VALUES (41, 'Simran', 'Mukherjee', 'Marketing', 56500.00, '2019-05-30', 'Delhi', 'simran.mukherjee41@gmail.com');\n",
    "INSERT INTO EMPLOYEES VALUES (42, 'Arvind', 'Banerjee', 'Operations', 63500.00, '2020-03-22', 'Kolkata', 'arvind.banerjee42@gmail.com');\n",
    "INSERT INTO EMPLOYEES VALUES (43, 'Preeti', 'Nanda', 'HR', 55500.00, '2014-12-16', 'Hyderabad', 'preeti.nanda43@gmail.com');\n",
    "INSERT INTO EMPLOYEES VALUES (44, 'Siddharth', 'Kulshreshtha', 'IT', 68500.00, '2015-10-20', 'Bangalore', 'siddharth.kulshreshtha44@gmail.com');\n",
    "INSERT INTO EMPLOYEES VALUES (45, 'Monica', 'Raj', 'Finance', 60000.00, '2016-01-15', 'Chennai', 'monica.raj45@gmail.com');\n",
    "INSERT INTO EMPLOYEES VALUES (46, 'Aditya', 'Singhania', 'Sales', 75000.00, '2017-06-18', 'Pune', 'aditya.singhania46@gmail.com');\n",
    "INSERT INTO EMPLOYEES VALUES (47, 'Roshni', 'Prasad', 'Marketing', 58000.00, '2018-08-27', 'Delhi', 'roshni.prasad47@gmail.com');\n",
    "INSERT INTO EMPLOYEES VALUES (48, 'Chirag', 'Rastogi', 'Operations', 64500.00, '2019-11-21', 'Mumbai', 'chirag.rastogi48@gmail.com');\n",
    "INSERT INTO EMPLOYEES VALUES (49, 'Vidya', 'Jain', 'HR', 56500.00, '2020-05-14', 'Hyderabad', 'vidya.jain49@gmail.com');\n",
    "INSERT INTO EMPLOYEES VALUES (50, 'Tejas', 'Gowda', 'IT', 69500.00, '2014-07-29', 'Bangalore', 'tejas.gowda50@gmail.com');\n"
   ]
  },
  {
   "cell_type": "code",
   "execution_count": 0,
   "metadata": {
    "application/vnd.databricks.v1+cell": {
     "cellMetadata": {
      "byteLimit": 2048000,
      "implicitDf": true,
      "rowLimit": 10000
     },
     "inputWidgets": {},
     "nuid": "81ad79d2-a121-449d-849c-5a38546165c6",
     "showTitle": false,
     "tableResultSettingsMap": {},
     "title": ""
    }
   },
   "outputs": [],
   "source": [
    "%sql\n",
    "Select * from employees;"
   ]
  },
  {
   "cell_type": "code",
   "execution_count": 0,
   "metadata": {
    "application/vnd.databricks.v1+cell": {
     "cellMetadata": {
      "byteLimit": 2048000,
      "implicitDf": true,
      "rowLimit": 10000
     },
     "inputWidgets": {},
     "nuid": "1ce6606a-d881-4313-b345-bd6b31af53e6",
     "showTitle": false,
     "tableResultSettingsMap": {},
     "title": ""
    }
   },
   "outputs": [],
   "source": [
    "%sql\n",
    "CREATE TABLE SALES(\n",
    "  ID INT,\n",
    "  CUSTOMER VARCHAR(50),\n",
    "  PRODUCT VARCHAR(50),\n",
    "  AMOUNT DECIMAL(10,2),\n",
    "  SALE_DATE DATE,\n",
    "  REGION VARCHAR(50)\n",
    ");"
   ]
  },
  {
   "cell_type": "code",
   "execution_count": 0,
   "metadata": {
    "application/vnd.databricks.v1+cell": {
     "cellMetadata": {
      "byteLimit": 2048000,
      "implicitDf": true,
      "rowLimit": 10000
     },
     "inputWidgets": {},
     "nuid": "ad9f7cf0-375e-42ff-96c1-bb5ee9cf49c3",
     "showTitle": false,
     "tableResultSettingsMap": {},
     "title": ""
    }
   },
   "outputs": [],
   "source": [
    "%sql\n",
    "Drop table sales;"
   ]
  },
  {
   "cell_type": "code",
   "execution_count": 0,
   "metadata": {
    "application/vnd.databricks.v1+cell": {
     "cellMetadata": {
      "byteLimit": 2048000,
      "implicitDf": true,
      "rowLimit": 10000
     },
     "inputWidgets": {},
     "nuid": "14a0af12-6793-421c-a2b1-78d5f9663069",
     "showTitle": false,
     "tableResultSettingsMap": {},
     "title": ""
    }
   },
   "outputs": [],
   "source": [
    "%sql\n",
    "Show databases;"
   ]
  },
  {
   "cell_type": "code",
   "execution_count": 0,
   "metadata": {
    "application/vnd.databricks.v1+cell": {
     "cellMetadata": {
      "byteLimit": 2048000,
      "implicitDf": true,
      "rowLimit": 10000
     },
     "inputWidgets": {},
     "nuid": "d1bb7687-4a72-4838-a846-982deb865809",
     "showTitle": false,
     "tableResultSettingsMap": {},
     "title": ""
    }
   },
   "outputs": [],
   "source": [
    "%sql\n",
    "use demo_db;"
   ]
  },
  {
   "cell_type": "code",
   "execution_count": 0,
   "metadata": {
    "application/vnd.databricks.v1+cell": {
     "cellMetadata": {
      "byteLimit": 2048000,
      "implicitDf": true,
      "rowLimit": 10000
     },
     "inputWidgets": {},
     "nuid": "3802ad76-18b4-4a74-bbc2-e54155dc36bb",
     "showTitle": false,
     "tableResultSettingsMap": {},
     "title": ""
    }
   },
   "outputs": [],
   "source": [
    "%sql\n",
    "show tables;\n"
   ]
  },
  {
   "cell_type": "code",
   "execution_count": 0,
   "metadata": {
    "application/vnd.databricks.v1+cell": {
     "cellMetadata": {
      "byteLimit": 2048000,
      "implicitDf": true,
      "rowLimit": 10000
     },
     "inputWidgets": {},
     "nuid": "506b2c90-7fdd-4f6a-8613-0be640998679",
     "showTitle": false,
     "tableResultSettingsMap": {},
     "title": ""
    }
   },
   "outputs": [],
   "source": [
    "%sql\n",
    "use default;\n",
    "show tables;"
   ]
  },
  {
   "cell_type": "code",
   "execution_count": 0,
   "metadata": {
    "application/vnd.databricks.v1+cell": {
     "cellMetadata": {
      "byteLimit": 2048000,
      "implicitDf": true,
      "rowLimit": 10000
     },
     "inputWidgets": {},
     "nuid": "2efcbb53-2e28-4e27-b3d2-e86759cb81a9",
     "showTitle": false,
     "tableResultSettingsMap": {},
     "title": ""
    }
   },
   "outputs": [],
   "source": [
    "%sql\n",
    "drop table employee;"
   ]
  },
  {
   "cell_type": "code",
   "execution_count": 0,
   "metadata": {
    "application/vnd.databricks.v1+cell": {
     "cellMetadata": {
      "byteLimit": 2048000,
      "implicitDf": true,
      "rowLimit": 10000
     },
     "inputWidgets": {},
     "nuid": "6c15b1a0-f575-4b03-a92c-0c53be26d9bf",
     "showTitle": false,
     "tableResultSettingsMap": {},
     "title": ""
    }
   },
   "outputs": [],
   "source": [
    "%sql\n",
    "use demo_db;"
   ]
  },
  {
   "cell_type": "code",
   "execution_count": 0,
   "metadata": {
    "application/vnd.databricks.v1+cell": {
     "cellMetadata": {
      "byteLimit": 2048000,
      "implicitDf": true,
      "rowLimit": 10000
     },
     "inputWidgets": {},
     "nuid": "1c1f3ab6-63cf-4510-906c-2683b2162ffc",
     "showTitle": false,
     "tableResultSettingsMap": {},
     "title": ""
    }
   },
   "outputs": [],
   "source": [
    "%sql\n",
    "CREATE TABLE SALES(\n",
    "  ID INT,\n",
    "  CUSTOMER VARCHAR(50),\n",
    "  PRODUCT VARCHAR(50),\n",
    "  AMOUNT BIGINT,\n",
    "  SALE_DATE DATE,\n",
    "  REGION VARCHAR(50)\n",
    ");"
   ]
  },
  {
   "cell_type": "code",
   "execution_count": 0,
   "metadata": {
    "application/vnd.databricks.v1+cell": {
     "cellMetadata": {
      "byteLimit": 2048000,
      "implicitDf": true,
      "rowLimit": 10000
     },
     "inputWidgets": {},
     "nuid": "776da1be-c8a4-4808-95e8-4ac1b942494b",
     "showTitle": false,
     "tableResultSettingsMap": {},
     "title": ""
    }
   },
   "outputs": [],
   "source": [
    "%sql\n",
    "INSERT INTO sales VALUES(105, 'COO6','RedShoes',2999,'2023-10-06','North');\n",
    "    \n",
    "INSERT INTO sales VALUES(106, 'COO3','BlackShirt',1999, '2023-10-02', 'West');\n",
    "INSERT INTO sales VALUES(107, 'COO5','T-Shirt',3999, '2023-10-04', 'East');\n",
    "INSERT INTO sales VALUES(108, 'COO8','Watch',1999, '2023-10-03', 'South');"
   ]
  },
  {
   "cell_type": "code",
   "execution_count": 0,
   "metadata": {
    "application/vnd.databricks.v1+cell": {
     "cellMetadata": {
      "byteLimit": 2048000,
      "implicitDf": true,
      "rowLimit": 10000
     },
     "inputWidgets": {},
     "nuid": "d600b37c-dca9-4bc6-8ccb-91ea223f7ebf",
     "showTitle": false,
     "tableResultSettingsMap": {},
     "title": ""
    }
   },
   "outputs": [],
   "source": [
    "%sql\n",
    "select * from sales;"
   ]
  },
  {
   "cell_type": "code",
   "execution_count": 0,
   "metadata": {
    "application/vnd.databricks.v1+cell": {
     "cellMetadata": {
      "byteLimit": 2048000,
      "implicitDf": true,
      "rowLimit": 10000
     },
     "inputWidgets": {},
     "nuid": "bd60c3eb-4b7b-4492-8e97-b657b76a0abd",
     "showTitle": false,
     "tableResultSettingsMap": {},
     "title": ""
    }
   },
   "outputs": [],
   "source": [
    "%sql\n",
    "---total sales per region----\n",
    "select sale_date, sum(amount) as total_sales\n",
    "from sales group by sale_date;"
   ]
  },
  {
   "cell_type": "code",
   "execution_count": 0,
   "metadata": {
    "application/vnd.databricks.v1+cell": {
     "cellMetadata": {
      "byteLimit": 2048000,
      "implicitDf": true,
      "rowLimit": 10000
     },
     "inputWidgets": {},
     "nuid": "62204b3a-bf88-4524-9973-f86ef04d63e1",
     "showTitle": false,
     "tableResultSettingsMap": {},
     "title": ""
    }
   },
   "outputs": [],
   "source": [
    "%sql\n",
    "select * from sales where sale_date >= '2023-10-02';"
   ]
  },
  {
   "cell_type": "code",
   "execution_count": 0,
   "metadata": {
    "application/vnd.databricks.v1+cell": {
     "cellMetadata": {
      "byteLimit": 2048000,
      "implicitDf": true,
      "rowLimit": 10000
     },
     "inputWidgets": {},
     "nuid": "da80dec6-ff6d-439d-87a0-95cc478670a3",
     "showTitle": false,
     "tableResultSettingsMap": {},
     "title": ""
    }
   },
   "outputs": [],
   "source": [
    "%sql\n",
    "select * from sales where amount >= 2000;"
   ]
  },
  {
   "cell_type": "code",
   "execution_count": 0,
   "metadata": {
    "application/vnd.databricks.v1+cell": {
     "cellMetadata": {
      "byteLimit": 2048000,
      "implicitDf": true,
      "rowLimit": 10000
     },
     "inputWidgets": {},
     "nuid": "66da1e9f-d1ed-4f8c-a5b0-5b4f5b6b7b2e",
     "showTitle": false,
     "tableResultSettingsMap": {},
     "title": ""
    }
   },
   "outputs": [],
   "source": [
    "%sql\n",
    "select * from sales order by amount desc limit 1;"
   ]
  },
  {
   "cell_type": "code",
   "execution_count": 0,
   "metadata": {
    "application/vnd.databricks.v1+cell": {
     "cellMetadata": {},
     "inputWidgets": {},
     "nuid": "a8faeda3-ec60-4922-91b4-0e79f020f7b0",
     "showTitle": false,
     "tableResultSettingsMap": {},
     "title": ""
    }
   },
   "outputs": [],
   "source": []
  }
 ],
 "metadata": {
  "application/vnd.databricks.v1+notebook": {
   "computePreferences": null,
   "dashboards": [],
   "environmentMetadata": {
    "base_environment": "",
    "environment_version": "3"
   },
   "inputWidgetPreferences": null,
   "language": "python",
   "notebookMetadata": {
    "mostRecentlyExecutedCommandWithImplicitDF": {
     "commandId": 7917630810779494,
     "dataframes": [
      "_sqldf"
     ]
    },
    "pythonIndentUnit": 4
   },
   "notebookName": "class-1",
   "widgets": {}
  },
  "language_info": {
   "name": "python"
  }
 },
 "nbformat": 4,
 "nbformat_minor": 0
}
